{
 "cells": [
  {
   "cell_type": "code",
   "execution_count": null,
   "metadata": {},
   "outputs": [],
   "source": [
    "import numpy as np\n",
    "import tensorflow as tf\n",
    "from tensorflow import keras\n",
    "import matplotlib.pyplot as plt"
   ]
  },
  {
   "cell_type": "markdown",
   "metadata": {},
   "source": [
    "### All the parameters required for the network can be tweaked below"
   ]
  },
  {
   "cell_type": "code",
   "execution_count": null,
   "metadata": {},
   "outputs": [],
   "source": [
    "### Hyperparamets babyyy, change accordingly\n",
    "Channel_uses = 4\n",
    "Epochs = 5000\n",
    "Noise_variance = 1e-4\n",
    "Pert_variance = 1e-4\n",
    "Batch_size = 1024\n",
    "# init_losses_vec = np.ones(128)"
   ]
  },
  {
   "cell_type": "markdown",
   "metadata": {},
   "source": [
    "### TX loss function \n",
    "The policy function for the transmitter is similar to that of a cross-entropy between the noisy loss feedback (l) and the J(w,$\\theta$) function value\n",
    "\n",
    "Loss = -$\\sum_{i=1}^n$($l_i$ * J($w_i$,$\\theta$))"
   ]
  },
  {
   "cell_type": "code",
   "execution_count": null,
   "metadata": {},
   "outputs": [],
   "source": [
    "def tx_loss(y_true, y_pred): \n",
    "#     loss = - y_true*keras.backend.log(y_pred)\n",
    "\n",
    "    return -y_true*y_pred\n",
    "     "
   ]
  },
  {
   "cell_type": "markdown",
   "metadata": {},
   "source": [
    "### Perturbation\n",
    "\n",
    "After we get the output from the transmitter network, we then add the perturbation matrix as mentioned in the paper. We write a  function for this purpose and then make a custom layer like functionality using the `keras.layers.lambda` functionality"
   ]
  },
  {
   "cell_type": "code",
   "execution_count": null,
   "metadata": {},
   "outputs": [],
   "source": [
    "def perturbation(d):\n",
    "    W = tf.keras.backend.random_normal(shape = (2*Channel_uses,),\n",
    "    mean=0.0,stddev=Pert_variance**0.5,dtype=None,seed=None)\n",
    "    d = ((1-Pert_variance)**0.5)*d + W\n",
    "    return d"
   ]
  },
  {
   "cell_type": "markdown",
   "metadata": {},
   "source": [
    "###  Tx model"
   ]
  },
  {
   "cell_type": "code",
   "execution_count": null,
   "metadata": {},
   "outputs": [],
   "source": [
    "def blah(y):\n",
    "    w = y[:,y.shape[-1]//2:] - y[:,:y.shape[-1]//2]\n",
    "    print('hehehe', w.shape)\n",
    "    t = -keras.backend.sum(w*w)\n",
    "#     t = keras.backend.exp(-t/Pert_variance**2)/(np.pi*Pert_variance**2)**Channel_uses\n",
    "    return t"
   ]
  },
  {
   "cell_type": "code",
   "execution_count": null,
   "metadata": {},
   "outputs": [],
   "source": [
    "# tx layers\n",
    "tx_input = keras.layers.Input((1,), name='tx_input')\n",
    "x = keras.layers.BatchNormalization()(tx_input)\n",
    "x = keras.layers.Dense(units=10*Channel_uses, activation='elu', name='tx_10')(x)\n",
    "x = keras.layers.Dense(units=2*Channel_uses, activation='elu', name='tx_out')(x)\n",
    "xp = keras.layers.Lambda(perturbation, name='Xp')(x)\n",
    "concat = keras.layers.concatenate([x,xp], axis=1)\n",
    "policy = keras.layers.Lambda(blah)(concat)\n",
    "print(concat.shape)"
   ]
  },
  {
   "cell_type": "markdown",
   "metadata": {},
   "source": [
    "We define the entire graph but for simplicity sake, we also define a sub-model for getting the internediate layer outputs.\n",
    "\n",
    "To be even more precise, we add perturbation after we get the Tx layer output. So, to get the perturbation matrix out, we define a full model and another proxy model (which shares weights with the full model) which return without perturbation matrix effects.\n",
    "\n",
    "We then subtract these two layers to get the value of W (perturbation matrix) for a given batch/sample\n",
    "\n",
    "(Note that we had to take this roundabout method to get W because Keras can't return two tensors for a said layer)"
   ]
  },
  {
   "cell_type": "code",
   "execution_count": null,
   "metadata": {},
   "outputs": [],
   "source": [
    "tx_model = keras.models.Model(inputs=tx_input, outputs=concat)"
   ]
  },
  {
   "cell_type": "code",
   "execution_count": null,
   "metadata": {},
   "outputs": [],
   "source": [
    "tx_model.summary()"
   ]
  },
  {
   "cell_type": "code",
   "execution_count": null,
   "metadata": {},
   "outputs": [],
   "source": [
    "pert_model = keras.models.Model(inputs=tx_input, outputs=policy)"
   ]
  },
  {
   "cell_type": "code",
   "execution_count": null,
   "metadata": {},
   "outputs": [],
   "source": [
    "pert_model.compile(loss=tx_loss, optimizer='sgd')\n",
    "pert_model.summary()"
   ]
  },
  {
   "cell_type": "markdown",
   "metadata": {},
   "source": [
    "### Rx model\n",
    "\n",
    "In the said RX model, we are taking the Perturbed input, adding channel effects and then passing on for estimation. "
   ]
  },
  {
   "cell_type": "code",
   "execution_count": null,
   "metadata": {},
   "outputs": [],
   "source": [
    "rx_input = keras.layers.Input((2*Channel_uses,), name='rx_input')\n",
    "# channel layer\n",
    "y = keras.layers.Lambda(lambda x: x+keras.backend.random_normal(\n",
    "        shape = (2*Channel_uses,), mean=0.0, stddev=Noise_variance**0.5), name='channel')(rx_input)\n",
    "\n",
    "y = keras.layers.Dense(2*Channel_uses, activation='relu', name='rx_2')(y)\n",
    "y = keras.layers.Dense(10*Channel_uses, activation='relu', name='rx_10')(y)\n",
    "pred = keras.layers.Dense(1, activation='relu', name='rx_output')(y)"
   ]
  },
  {
   "cell_type": "code",
   "execution_count": null,
   "metadata": {},
   "outputs": [],
   "source": [
    "rx_model = keras.models.Model(inputs=rx_input, outputs=pred)\n",
    "rx_model.summary()"
   ]
  },
  {
   "cell_type": "code",
   "execution_count": null,
   "metadata": {},
   "outputs": [],
   "source": [
    "rx_model.compile(loss='mse', optimizer='sgd')"
   ]
  },
  {
   "cell_type": "code",
   "execution_count": null,
   "metadata": {},
   "outputs": [],
   "source": [
    "data_numbers = np.random.uniform(0,1,(Batch_size,))\n",
    "y = tx_model.predict(data_numbers)\n",
    "print(y.shape)\n",
    "XP = y[:,y.shape[-1]//2:]\n",
    "estimated_vector  = np.squeeze(rx_model.predict(XP))\n",
    "print(estimated_vector.shape, data_numbers.shape)"
   ]
  },
  {
   "cell_type": "code",
   "execution_count": null,
   "metadata": {},
   "outputs": [],
   "source": [
    "l = (estimated_vector-data_numbers)**2\n",
    "l_hat = rx_model.predict(tx_model.predict(data_numbers)[:,2*Channel_uses:])"
   ]
  },
  {
   "cell_type": "code",
   "execution_count": null,
   "metadata": {},
   "outputs": [],
   "source": [
    "pert_model.fit(data_numbers, l_hat, batch_size=Batch_size, epochs=1)"
   ]
  },
  {
   "cell_type": "markdown",
   "metadata": {},
   "source": [
    "### Training\n",
    "\n",
    "Training this entire network is done as discussed in the paper -\n",
    "1. Generate a batch of numbers sampled from Uniform random variable from [0,1]\n",
    "2. Pass the numbers through Tx and then Rx\n",
    "3. Get a loss vectors for the said batch of numbers\n",
    "4. Train the Rx network on MSE with SGD\n",
    "5. Feed back the loss vector to Tx using the same pair of Tx and Rx to incorporate noise into the loss vector\n",
    "6. Use policy function, the loss vector and train the Tx for the same batch of numbers\n",
    "7. Back to step 1"
   ]
  },
  {
   "cell_type": "code",
   "execution_count": null,
   "metadata": {
    "scrolled": true
   },
   "outputs": [],
   "source": [
    "for i in range(Epochs):\n",
    "    data_numbers = np.random.uniform(0,1,(Batch_size,))\n",
    "    y = tx_model.predict(data_numbers)\n",
    "    XP = y[:,y.shape[-1]//2:]\n",
    "    estimated_vector= np.squeeze(rx_model.predict(XP))\n",
    "    l = (estimated_vector-data_numbers)**2\n",
    "    l_hat = rx_model.predict(tx_model.predict(data_numbers)[:,2*Channel_uses:])\n",
    "    pert_model.fit(data_numbers, l_hat, batch_size=Batch_size, epochs=1, verbose=0)\n",
    "#     print(\"Tx-done\")\n",
    "    rx_model.fit(XP, data_numbers, batch_size=Batch_size, epochs=1)\n",
    "#     print(\"Rx-done\")"
   ]
  },
  {
   "cell_type": "markdown",
   "metadata": {},
   "source": [
    "### Prediction phase\n",
    "Note that the network is predicting numbers with a quite low error margin (+- 1e-2)\n",
    "This is in case of continous numbers \n",
    "Say we feed numbers sampled from PAM (discrete numbers) and set our prediction rules as a floor or ceiling function, this model easily achieves 95% accuracy\n",
    "\n",
    "This is all achieved even though there is a noisy feedback of losses from Tx to Rx"
   ]
  },
  {
   "cell_type": "code",
   "execution_count": null,
   "metadata": {},
   "outputs": [],
   "source": [
    "data_numbers = np.random.uniform(0,1,(10,))\n",
    "y = tx_model.predict(data_numbers)\n",
    "XP = y[:,y.shape[-1]//2:]\n",
    "estimated_vector= np.squeeze(rx_model.predict(XP))\n",
    "print(data_numbers)\n",
    "print(estimated_vector)\n",
    "# l = (estimated_vector-data_numbers)**2\n",
    "# l_hat = rx_model.predict(tx_model.predict(data_numbers)[:,2*Channel_uses:])\n",
    "# pert_model.fit(data_numbers, l_hat, batch_size=Batch_size, epochs=1)\n",
    "# print(\"Tx-done\")\n",
    "# rx_model.fit(XP, data_numbers, batch_size=Batch_size, epochs=1)\n",
    "# print(\"Rx-done\")"
   ]
  },
  {
   "cell_type": "markdown",
   "metadata": {},
   "source": [
    "### Post implimentation tid-bits\n",
    "\n",
    "Please note that we had to make some chnages from the original discussed implimentation and theory to attain some numerical stability and to dodge NaN losses\n",
    "\n",
    "1. In the J(w,$\\theta$) function, we have a part involving exp(|w|) and some constants. Where as the loss involved $L_i$ * log(J(w,$\\theta$)). This causes numerical instability in case the J function goes negative or is very very small due to exp() and then log. To prevent this, we ignored the constants (as they dont affect gradient terms while differentiating) and removed the exp() and log() terms all-together\n",
    "\n",
    "2. Author assumed two pairs of Tx-Rx with shared weights. We used one for both purposes as it is symmetric"
   ]
  }
 ],
 "metadata": {
  "kernelspec": {
   "display_name": "Python 3",
   "language": "python",
   "name": "python3"
  },
  "language_info": {
   "codemirror_mode": {
    "name": "ipython",
    "version": 3
   },
   "file_extension": ".py",
   "mimetype": "text/x-python",
   "name": "python",
   "nbconvert_exporter": "python",
   "pygments_lexer": "ipython3",
   "version": "3.7.0"
  }
 },
 "nbformat": 4,
 "nbformat_minor": 2
}
