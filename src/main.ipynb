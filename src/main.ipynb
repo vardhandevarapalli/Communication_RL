{
 "cells": [
  {
   "cell_type": "markdown",
   "metadata": {},
   "source": [
    "# Deep Reinforcement Learning Autoencoder with Noisy Feedback\n",
    " > Ref: https://arxiv.org/pdf/1810.05419.pdf\n",
    " \n",
    "#### Things to do: \n",
    "+ Dataset\n",
    "+ Model Architecture\n",
    "    + transmitter layers?\n",
    "    + receiver layers?\n",
    "    + normalization layers\n",
    "    + Loss - MSE\n",
    "    + Optimizer - adam\n",
    "    + feedback link - loss transmission ?"
   ]
  },
  {
   "cell_type": "code",
   "execution_count": 2,
   "metadata": {},
   "outputs": [],
   "source": [
    "import tensorflow as tf\n",
    "import numpy as np"
   ]
  },
  {
   "cell_type": "code",
   "execution_count": null,
   "metadata": {},
   "outputs": [],
   "source": []
  }
 ],
 "metadata": {
  "kernelspec": {
   "display_name": "Python 3",
   "language": "python",
   "name": "python3"
  },
  "language_info": {
   "codemirror_mode": {
    "name": "ipython",
    "version": 3
   },
   "file_extension": ".py",
   "mimetype": "text/x-python",
   "name": "python",
   "nbconvert_exporter": "python",
   "pygments_lexer": "ipython3",
   "version": "3.6.8"
  }
 },
 "nbformat": 4,
 "nbformat_minor": 2
}
